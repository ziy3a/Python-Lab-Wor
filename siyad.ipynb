{
 "cells": [
  {
   "cell_type": "markdown",
   "id": "3128c08a",
   "metadata": {},
   "source": [
    "## 1) Write a program to perform different arithmetic operations on numbers in python"
   ]
  },
  {
   "cell_type": "code",
   "execution_count": 11,
   "id": "3b38bd1d",
   "metadata": {},
   "outputs": [
    {
     "name": "stdout",
     "output_type": "stream",
     "text": [
      "Enter the number :10\n",
      "Enter another number :2\n",
      "sum: 12 \n",
      "Subtraction: 8 \n",
      "Product: 20 \n",
      "Division: 5.0\n"
     ]
    }
   ],
   "source": [
    "a=int(input(\"Enter the number :\"))\n",
    "b=int(input(\"Enter another number :\"))\n",
    "print(\"sum:\",a+b,\"\\nSubtraction:\",a-b,\"\\nProduct:\",a*b,\"\\nDivision:\",a/b)"
   ]
  },
  {
   "cell_type": "markdown",
   "id": "68492a2c",
   "metadata": {},
   "source": [
    "## 2) Write a program to create, concatenate,find range,slice,check membership and print a string and access a sub string from a given string"
   ]
  },
  {
   "cell_type": "code",
   "execution_count": 12,
   "id": "8847ae45",
   "metadata": {},
   "outputs": [],
   "source": [
    "#create"
   ]
  },
  {
   "cell_type": "code",
   "execution_count": 16,
   "id": "3ecc6d10",
   "metadata": {},
   "outputs": [
    {
     "name": "stdout",
     "output_type": "stream",
     "text": [
      "Enter the string: Athira\n",
      "Enter the String: Siyad\n",
      "Athira\n",
      "Siyad\n"
     ]
    }
   ],
   "source": [
    "string1=input(\"Enter the string: \")\n",
    "string2=input(\"Enter the String: \")\n",
    "print(string1)\n",
    "print(string2)"
   ]
  },
  {
   "cell_type": "code",
   "execution_count": 17,
   "id": "c37ace82",
   "metadata": {},
   "outputs": [],
   "source": [
    "#Concatenate"
   ]
  },
  {
   "cell_type": "code",
   "execution_count": 20,
   "id": "c6097237",
   "metadata": {},
   "outputs": [
    {
     "name": "stdout",
     "output_type": "stream",
     "text": [
      "AthiraSiyad\n"
     ]
    }
   ],
   "source": [
    "nw=string1+string2\n",
    "print(nw)"
   ]
  },
  {
   "cell_type": "code",
   "execution_count": 19,
   "id": "23a5fb15",
   "metadata": {},
   "outputs": [],
   "source": [
    "#Range"
   ]
  },
  {
   "cell_type": "code",
   "execution_count": 22,
   "id": "24ae029c",
   "metadata": {},
   "outputs": [
    {
     "name": "stdout",
     "output_type": "stream",
     "text": [
      "6\n",
      "5\n",
      "11\n"
     ]
    }
   ],
   "source": [
    "print(len(string1))\n",
    "print(len(string2))\n",
    "print(len(nw))"
   ]
  },
  {
   "cell_type": "code",
   "execution_count": 23,
   "id": "ebbf72cc",
   "metadata": {},
   "outputs": [],
   "source": [
    "#Slice"
   ]
  },
  {
   "cell_type": "code",
   "execution_count": 25,
   "id": "3226b8b8",
   "metadata": {},
   "outputs": [
    {
     "name": "stdout",
     "output_type": "stream",
     "text": [
      "hira\n"
     ]
    }
   ],
   "source": [
    "print(string1[2:6])"
   ]
  },
  {
   "cell_type": "code",
   "execution_count": 26,
   "id": "51cc4619",
   "metadata": {},
   "outputs": [],
   "source": [
    "#Check Membership"
   ]
  },
  {
   "cell_type": "code",
   "execution_count": 27,
   "id": "59c5f709",
   "metadata": {},
   "outputs": [
    {
     "name": "stdout",
     "output_type": "stream",
     "text": [
      "Exist\n"
     ]
    }
   ],
   "source": [
    "if \"Siyad\" in nw:\n",
    "    print(\"Exist\")\n",
    "else:\n",
    "    print(\"Doesn't exist\")"
   ]
  },
  {
   "cell_type": "code",
   "execution_count": 28,
   "id": "d3bfb6e1",
   "metadata": {},
   "outputs": [],
   "source": [
    "#Sub-string"
   ]
  },
  {
   "cell_type": "code",
   "execution_count": 29,
   "id": "e921196b",
   "metadata": {},
   "outputs": [
    {
     "name": "stdout",
     "output_type": "stream",
     "text": [
      "hiraS\n"
     ]
    }
   ],
   "source": [
    "sub=nw[2:7]\n",
    "print(sub)"
   ]
  },
  {
   "cell_type": "markdown",
   "id": "04fa9626",
   "metadata": {},
   "source": [
    "## 3) Write a python program.To create list with college names, Append a new college into the list, Add a new college at first position and Remove a name from college lists.\n"
   ]
  },
  {
   "cell_type": "code",
   "execution_count": 30,
   "id": "0532933e",
   "metadata": {},
   "outputs": [],
   "source": [
    "#(i)Create a list with college names"
   ]
  },
  {
   "cell_type": "code",
   "execution_count": 31,
   "id": "6aebd36e",
   "metadata": {},
   "outputs": [],
   "source": [
    "list=[\"Rcss\",\"Mac\",\"Sjc\"]"
   ]
  },
  {
   "cell_type": "code",
   "execution_count": 32,
   "id": "aad21a7c",
   "metadata": {},
   "outputs": [
    {
     "name": "stdout",
     "output_type": "stream",
     "text": [
      "['Rcss', 'Mac', 'Sjc']\n"
     ]
    }
   ],
   "source": [
    "print(list)"
   ]
  },
  {
   "cell_type": "code",
   "execution_count": 33,
   "id": "6618479e",
   "metadata": {},
   "outputs": [],
   "source": [
    "#(ii)Append a new college into the list"
   ]
  },
  {
   "cell_type": "code",
   "execution_count": 44,
   "id": "90d58aed",
   "metadata": {},
   "outputs": [
    {
     "name": "stdout",
     "output_type": "stream",
     "text": [
      "['Rcss', 'Mac', 'Sjc', 'Dmc']\n"
     ]
    }
   ],
   "source": [
    "list.append(\"Dmc\")\n",
    "print(list)"
   ]
  },
  {
   "cell_type": "code",
   "execution_count": 45,
   "id": "28a77549",
   "metadata": {},
   "outputs": [],
   "source": [
    "#(iii)Add new college at the first position"
   ]
  },
  {
   "cell_type": "code",
   "execution_count": 46,
   "id": "8406bacc",
   "metadata": {},
   "outputs": [
    {
     "name": "stdout",
     "output_type": "stream",
     "text": [
      "['Mic', 'Rcss', 'Mac', 'Sjc', 'Dmc']\n"
     ]
    }
   ],
   "source": [
    "list.insert(0,\"Mic\")\n",
    "print(list)"
   ]
  },
  {
   "cell_type": "code",
   "execution_count": 47,
   "id": "a97ddbe1",
   "metadata": {},
   "outputs": [],
   "source": [
    "#(iv)Remove a name from college lists"
   ]
  },
  {
   "cell_type": "code",
   "execution_count": 48,
   "id": "29536152",
   "metadata": {},
   "outputs": [
    {
     "name": "stdout",
     "output_type": "stream",
     "text": [
      "['Mic', 'Rcss', 'Mac', 'Sjc']\n"
     ]
    }
   ],
   "source": [
    "del list[4]\n",
    "print(list)"
   ]
  },
  {
   "cell_type": "markdown",
   "id": "52a7b88f",
   "metadata": {},
   "source": [
    "## 4) Write a program to demonstrate working with tuples in python. Create tuples with hardware’s of computer: - Hardware = (\"Monitor\", \"RAM\", \"Expansion cards\", \"HDD\"). Check whether 'HDD' is present in the tuple or not\n",
    "\n"
   ]
  },
  {
   "cell_type": "code",
   "execution_count": 1,
   "id": "23ef0970",
   "metadata": {},
   "outputs": [
    {
     "name": "stdout",
     "output_type": "stream",
     "text": [
      "('Monitor', 'RAM', 'Expansion cards', 'HDD')\n"
     ]
    }
   ],
   "source": [
    "hardware=(\"Monitor\",\"RAM\",\"Expansion cards\",\"HDD\")\n",
    "print(hardware)"
   ]
  },
  {
   "cell_type": "code",
   "execution_count": 7,
   "id": "b1e907b6",
   "metadata": {},
   "outputs": [
    {
     "name": "stdout",
     "output_type": "stream",
     "text": [
      "True\n"
     ]
    }
   ],
   "source": [
    "print(\"HDD\" in hardware)"
   ]
  },
  {
   "cell_type": "markdown",
   "id": "f725f7e0",
   "metadata": {},
   "source": [
    "## 5)Dictionaries in python"
   ]
  },
  {
   "cell_type": "code",
   "execution_count": 11,
   "id": "6342ba5a",
   "metadata": {},
   "outputs": [],
   "source": [
    "mydict={\"Name\":\"Rose\",\n",
    "       \"Age\": 21,\n",
    "       \"course\":\"MSCCS\"}"
   ]
  },
  {
   "cell_type": "code",
   "execution_count": 9,
   "id": "c02babf5",
   "metadata": {},
   "outputs": [
    {
     "name": "stdout",
     "output_type": "stream",
     "text": [
      "{'Name': 'Rose', 'Age': 21, 'course': 'MSCCS'}\n"
     ]
    }
   ],
   "source": [
    "print(mydict)"
   ]
  },
  {
   "cell_type": "markdown",
   "id": "e2ea2f40",
   "metadata": {},
   "source": [
    "##  6)Create a book dictionary, Add items to dictionary, Change values of a key, Find the length of the made dictionary\n"
   ]
  },
  {
   "cell_type": "code",
   "execution_count": 27,
   "id": "0091ba25",
   "metadata": {},
   "outputs": [],
   "source": [
    "bookdict={'Book_name':['Thats the way we met','A tale of two cities'],\n",
    "         'Author':['Sudheep Nagarkar','Charles Dickens'],\n",
    "         'Year':[2018,2008]}"
   ]
  },
  {
   "cell_type": "code",
   "execution_count": 28,
   "id": "a95c4847",
   "metadata": {},
   "outputs": [
    {
     "name": "stdout",
     "output_type": "stream",
     "text": [
      "{'Book_name': ['Thats the way we met', 'A tale of two cities'], 'Author': ['Sudheep Nagarkar', 'Charles Dickens'], 'Year': [2018, 2008]}\n"
     ]
    }
   ],
   "source": [
    "print(bookdict)"
   ]
  },
  {
   "cell_type": "code",
   "execution_count": 18,
   "id": "427a9bc5",
   "metadata": {},
   "outputs": [],
   "source": [
    "# add items"
   ]
  },
  {
   "cell_type": "code",
   "execution_count": 29,
   "id": "59e89db1",
   "metadata": {},
   "outputs": [],
   "source": [
    "bookdict.update({'book_id':['b1','b2']})"
   ]
  },
  {
   "cell_type": "code",
   "execution_count": 30,
   "id": "f5da4cb3",
   "metadata": {},
   "outputs": [
    {
     "name": "stdout",
     "output_type": "stream",
     "text": [
      "{'Book_name': ['Thats the way we met', 'A tale of two cities'], 'Author': ['Sudheep Nagarkar', 'Charles Dickens'], 'Year': [2018, 2008], 'book_id': ['b1', 'b2']}\n"
     ]
    }
   ],
   "source": [
    "print(bookdict)"
   ]
  },
  {
   "cell_type": "code",
   "execution_count": 19,
   "id": "c4a8c30c",
   "metadata": {},
   "outputs": [],
   "source": [
    "# change values of a key"
   ]
  },
  {
   "cell_type": "code",
   "execution_count": 21,
   "id": "a4e67caf",
   "metadata": {},
   "outputs": [],
   "source": [
    "# Find the length of the made dictionary"
   ]
  },
  {
   "cell_type": "code",
   "execution_count": 31,
   "id": "8302af64",
   "metadata": {},
   "outputs": [
    {
     "data": {
      "text/plain": [
       "4"
      ]
     },
     "execution_count": 31,
     "metadata": {},
     "output_type": "execute_result"
    }
   ],
   "source": [
    "len(bookdict)"
   ]
  },
  {
   "cell_type": "markdown",
   "id": "14f12d24",
   "metadata": {},
   "source": [
    "## 7)Write a python program to convert temperature to and from Celsius to Fahrenheit\n"
   ]
  },
  {
   "cell_type": "code",
   "execution_count": 3,
   "id": "ff75afa5",
   "metadata": {},
   "outputs": [
    {
     "name": "stdout",
     "output_type": "stream",
     "text": [
      "Enter the temperature : 41\n",
      "5.0\n"
     ]
    }
   ],
   "source": [
    "## fahrenheit to celsius\n",
    "f=float(input(\"Enter the temperature : \"))\n",
    "c=5/9*(f-32)\n",
    "print(c)"
   ]
  },
  {
   "cell_type": "code",
   "execution_count": 4,
   "id": "f7e20986",
   "metadata": {},
   "outputs": [
    {
     "name": "stdout",
     "output_type": "stream",
     "text": [
      "enter the temp in celsius : 10\n",
      "50.0\n"
     ]
    }
   ],
   "source": [
    "## celsius to fahrenheit \n",
    "c1=float(input(\"enter the temp in celsius : \"))\n",
    "f1=(9/5)*c1+32\n",
    "print(f1)"
   ]
  },
  {
   "cell_type": "markdown",
   "id": "e2370657",
   "metadata": {},
   "source": [
    "## 8)Write a python program to construct the following pattern using nested for loop:  "
   ]
  },
  {
   "cell_type": "markdown",
   "id": "a9e09f5e",
   "metadata": {},
   "source": [
    "*  \n",
    "**  \n",
    "***  \n",
    "****  \n",
    "*****  \n",
    "*****  \n",
    "****  \n",
    "***  \n",
    "**  \n",
    "* \n",
    "\n"
   ]
  },
  {
   "cell_type": "code",
   "execution_count": 17,
   "id": "6d9fed8e",
   "metadata": {},
   "outputs": [
    {
     "name": "stdout",
     "output_type": "stream",
     "text": [
      "* \n",
      "* * \n",
      "* * * \n",
      "* * * * \n",
      "* * * * * \n",
      "* * * * * \n",
      "* * * * \n",
      "* * * \n",
      "* * \n",
      "* \n"
     ]
    }
   ],
   "source": [
    "for i in range(1,6):\n",
    "    for j in range(i):\n",
    "        print(\"*\",end=\" \")\n",
    "    print()\n",
    "    \n",
    "for i in range(5,0,-1):\n",
    "    for j in range(i):\n",
    "        print(\"*\",end=\" \")\n",
    "    print()"
   ]
  },
  {
   "cell_type": "markdown",
   "id": "289cc699",
   "metadata": {},
   "source": [
    "## 9)Write a Python program that accepts the length of three sides of a triangle as inputs. The program should indicate whether or not the triangle is a right-angled triangle (use the Pythagorean theorem).\n"
   ]
  },
  {
   "cell_type": "code",
   "execution_count": null,
   "id": "e6f9c68b",
   "metadata": {},
   "outputs": [],
   "source": [
    "s1=int(input(\"Enter first side :\"))\n",
    "s2=int(input(\"Enter the second side: \"))\n",
    "s3=int(input(\"Enter the third side: \"))\n",
    "if ((s1*s1)+(s2*s2))==(s3*s3):\n",
    "    print(\"Right angled triangle\")\n",
    "elif ((s1*s1)+(s3*s3))==(s2*s2):\n",
    "    print(\"Right angled triangle\")\n",
    "elif ((s2*s2)+(s3*s3))==(s1*s1):\n",
    "    print(\"Right angled triangle\")\n",
    "else: \n",
    "    print(\"Not\")"
   ]
  },
  {
   "cell_type": "markdown",
   "id": "3ee75e18",
   "metadata": {},
   "source": [
    "## 10)Python program to check whether the given integer is a multiple of both 5 and 7\n",
    " "
   ]
  },
  {
   "cell_type": "code",
   "execution_count": 6,
   "id": "bb89d81b",
   "metadata": {},
   "outputs": [
    {
     "name": "stdout",
     "output_type": "stream",
     "text": [
      "Enter the integer: 5\n",
      "The given integer is not a multiple of both 5 and 7\n"
     ]
    }
   ],
   "source": [
    "i=int(input(\"Enter the integer: \"))\n",
    "if (i%5==0 and i%7==0):\n",
    "    print(\"The given integer is a multiple of both 5 and 7\")\n",
    "else:\n",
    "    print(\"The given integer is not a multiple of both 5 and 7\")"
   ]
  },
  {
   "cell_type": "markdown",
   "id": "f083b501",
   "metadata": {},
   "source": [
    "## 11) Python program to display all integers within the range 100-200 whose sum of digits is an even number\n"
   ]
  },
  {
   "cell_type": "code",
   "execution_count": 16,
   "id": "e5ac58a1",
   "metadata": {},
   "outputs": [
    {
     "name": "stdout",
     "output_type": "stream",
     "text": [
      "101\n",
      "103\n",
      "105\n",
      "107\n",
      "109\n",
      "110\n",
      "112\n",
      "114\n",
      "116\n",
      "118\n",
      "121\n",
      "123\n",
      "125\n",
      "127\n",
      "129\n",
      "130\n",
      "132\n",
      "134\n",
      "136\n",
      "138\n",
      "141\n",
      "143\n",
      "145\n",
      "147\n",
      "149\n",
      "150\n",
      "152\n",
      "154\n",
      "156\n",
      "158\n",
      "161\n",
      "163\n",
      "165\n",
      "167\n",
      "169\n",
      "170\n",
      "172\n",
      "174\n",
      "176\n",
      "178\n",
      "181\n",
      "183\n",
      "185\n",
      "187\n",
      "189\n",
      "190\n",
      "192\n",
      "194\n",
      "196\n",
      "198\n",
      "200\n"
     ]
    }
   ],
   "source": [
    "for j in range(100,201):\n",
    "    sum=0\n",
    "    i=j\n",
    "    r=0\n",
    "    while(i>0):\n",
    "        r=i%10\n",
    "        sum+=r\n",
    "        i=i//10\n",
    "    if(sum%2==0):\n",
    "        print(j)"
   ]
  },
  {
   "cell_type": "markdown",
   "id": "ab12960a",
   "metadata": {},
   "source": [
    "## 12)Python program to implement a calculator to do basic operations\n"
   ]
  },
  {
   "cell_type": "code",
   "execution_count": 19,
   "id": "65e61b17",
   "metadata": {},
   "outputs": [
    {
     "name": "stdout",
     "output_type": "stream",
     "text": [
      "Enter the number:20\n",
      "Enter the number:30\n",
      "Sum= 50.0\n",
      "Subtarction= -10.0\n",
      "Multiply= 600.0\n",
      "Division= 0.6666666666666666\n"
     ]
    }
   ],
   "source": [
    "a=float(input(\"Enter the number:\"))\n",
    "b=float(input(\"Enter the number:\"))\n",
    "summation=a+b\n",
    "subtraction=a-b\n",
    "multiply=a*b\n",
    "division=a/b\n",
    "print(\"Sum=\",summation)\n",
    "print(\"Subtarction=\",subtraction)\n",
    "print(\"Multiply=\",multiply)\n",
    "print(\"Division=\",division)"
   ]
  },
  {
   "cell_type": "markdown",
   "id": "e491a072",
   "metadata": {},
   "source": [
    "## 13)Python program to implement matrix multiplication\n"
   ]
  },
  {
   "cell_type": "code",
   "execution_count": 1,
   "id": "b07fb043",
   "metadata": {},
   "outputs": [
    {
     "name": "stdout",
     "output_type": "stream",
     "text": [
      "Matrix multiplication result:\n",
      "[58, 64]\n",
      "[139, 154]\n"
     ]
    }
   ],
   "source": [
    "def matrix_multiplication(matrix1, matrix2):\n",
    "    rows1 = len(matrix1)\n",
    "    cols1 = len(matrix1[0])\n",
    "    rows2 = len(matrix2)\n",
    "    cols2 = len(matrix2[0])\n",
    "\n",
    "    # Check if the matrices can be multiplied\n",
    "    if cols1 != rows2:\n",
    "        print(\"Matrices cannot be multiplied.\")\n",
    "        return None\n",
    "\n",
    "    # Create the result matrix\n",
    "    result = [[0] * cols2 for _ in range(rows1)]\n",
    "\n",
    "    # Perform matrix multiplication\n",
    "    for i in range(rows1):\n",
    "        for j in range(cols2):\n",
    "            for k in range(cols1):\n",
    "                result[i][j] += matrix1[i][k] * matrix2[k][j]\n",
    "\n",
    "    return result\n",
    "\n",
    "# Example usage\n",
    "matrix1 = [[1, 2, 3], [4, 5, 6]]\n",
    "matrix2 = [[7, 8], [9, 10], [11, 12]]\n",
    "\n",
    "result = matrix_multiplication(matrix1, matrix2)\n",
    "if result:\n",
    "    print(\"Matrix multiplication result:\")\n",
    "    for row in result:\n",
    "        print(row)"
   ]
  },
  {
   "cell_type": "markdown",
   "id": "0ba4edcd",
   "metadata": {},
   "source": [
    "## 14)Python program to print the Fibonacci series using iteration\n"
   ]
  },
  {
   "cell_type": "code",
   "execution_count": 13,
   "id": "5caac605",
   "metadata": {},
   "outputs": [
    {
     "name": "stdout",
     "output_type": "stream",
     "text": [
      "Enter the limit: 5\n",
      "0\n",
      "1\n",
      "1\n",
      "2\n",
      "3\n",
      "5\n",
      "8\n"
     ]
    }
   ],
   "source": [
    "limit=int(input(\"Enter the limit: \"))\n",
    "sum=0\n",
    "a=0\n",
    "b=1\n",
    "print(a)\n",
    "print(b)\n",
    "for i in range(0,limit):\n",
    "    sum=a+b\n",
    "    a=b\n",
    "    b=sum\n",
    "    print(sum)"
   ]
  },
  {
   "cell_type": "markdown",
   "id": "6d11767f",
   "metadata": {},
   "source": [
    "## 15) Write a Python program to solve (x + y) * (x + y)\n"
   ]
  },
  {
   "cell_type": "code",
   "execution_count": 17,
   "id": "eaf77d2e",
   "metadata": {},
   "outputs": [
    {
     "name": "stdout",
     "output_type": "stream",
     "text": [
      "Enter the number:2\n",
      "Enter the number:3\n",
      "25\n"
     ]
    }
   ],
   "source": [
    "x=int(input(\"Enter the number:\"))\n",
    "y=int(input(\"Enter the number:\"))\n",
    "ans=(x+y)*(x+y)\n",
    "print(ans)"
   ]
  },
  {
   "cell_type": "markdown",
   "id": "3e04261e",
   "metadata": {},
   "source": [
    "## 16)16. Python Program to implement sorting techniques:-\n",
    "a. Bubble Sort\n",
    "b. Quick Sort"
   ]
  },
  {
   "cell_type": "code",
   "execution_count": 4,
   "id": "64905ed7",
   "metadata": {},
   "outputs": [
    {
     "name": "stdout",
     "output_type": "stream",
     "text": [
      "Original array: [64, 34, 25, 12, 22, 11, 90]\n",
      "Sorted array: [11, 12, 22, 25, 34, 64, 90]\n"
     ]
    }
   ],
   "source": [
    "def bubble_sort(arr):\n",
    "    n = len(arr)\n",
    "    \n",
    "    for i in range(n):\n",
    "        for j in range(n - i - 1):\n",
    "            if arr[j] > arr[j + 1]:\n",
    "                arr[j], arr[j + 1] = arr[j + 1], arr[j]\n",
    "arr = [64, 34, 25, 12, 22, 11, 90]\n",
    "print(\"Original array:\", arr)\n",
    "\n",
    "bubble_sort(arr)\n",
    "\n",
    "print(\"Sorted array:\", arr)\n"
   ]
  },
  {
   "cell_type": "code",
   "execution_count": 5,
   "id": "03742dde",
   "metadata": {},
   "outputs": [
    {
     "name": "stdout",
     "output_type": "stream",
     "text": [
      "[1, 2, 3, 4, 5, 6, 7, 8]\n"
     ]
    }
   ],
   "source": [
    "def quick_sort(arr):\n",
    "    if len(arr) <= 1:\n",
    "        return arr\n",
    "    else:\n",
    "        pivot = arr[0]\n",
    "        less = [x for x in arr[1:] if x <= pivot]\n",
    "        greater = [x for x in arr[1:] if x > pivot]\n",
    "        return quick_sort(less) + [pivot] + quick_sort(greater)\n",
    "arr = [7, 2, 1, 6, 8, 5, 3, 4]\n",
    "sorted_arr = quick_sort(arr)\n",
    "print(sorted_arr)\n"
   ]
  },
  {
   "cell_type": "markdown",
   "id": "eb1cccfc",
   "metadata": {},
   "source": [
    "## 17)Python Program to implement searching techniques:-\n",
    "a. Linear search\n",
    "b. Binary search"
   ]
  },
  {
   "cell_type": "code",
   "execution_count": 6,
   "id": "df8c5456",
   "metadata": {},
   "outputs": [
    {
     "name": "stdout",
     "output_type": "stream",
     "text": [
      "Target 6 found at index 3\n"
     ]
    }
   ],
   "source": [
    "def linear_search(arr, target):\n",
    "    for i in range(len(arr)):\n",
    "        if arr[i] == target:\n",
    "            return i \n",
    "    return -1  \n",
    "arr = [7, 2, 1, 6, 8, 5, 3, 4]\n",
    "target = 6\n",
    "index = linear_search(arr, target)\n",
    "if index != -1:\n",
    "    print(f\"Target {target} found at index {index}\")\n",
    "else:\n",
    "    print(f\"Target {target} not found in the array\")\n"
   ]
  },
  {
   "cell_type": "code",
   "execution_count": 7,
   "id": "4b611f97",
   "metadata": {},
   "outputs": [
    {
     "name": "stdout",
     "output_type": "stream",
     "text": [
      "Element 5 is found at index 2\n"
     ]
    }
   ],
   "source": [
    "def binary_search(arr, target):\n",
    "    low = 0\n",
    "    high = len(arr) - 1\n",
    "\n",
    "    while low <= high:\n",
    "        mid = (low + high) // 2\n",
    "\n",
    "        if arr[mid] == target:\n",
    "            return mid\n",
    "        elif arr[mid] < target:\n",
    "            low = mid + 1\n",
    "        else:\n",
    "            high = mid - 1\n",
    "\n",
    "    return -1\n",
    "arr = [1, 3, 5, 7, 9]\n",
    "target = 5\n",
    "result = binary_search(arr, target)\n",
    "\n",
    "if result != -1:\n",
    "    print(\"Element\", target, \"is found at index\", result)\n",
    "else:\n",
    "    print(\"Element\", target, \"is not found in the array.\")\n"
   ]
  },
  {
   "cell_type": "markdown",
   "id": "18526fa9",
   "metadata": {},
   "source": [
    "## 18)Write a recursive function to calculate the sum of numbers from 0 to 10"
   ]
  },
  {
   "cell_type": "code",
   "execution_count": 9,
   "id": "1018cff6",
   "metadata": {},
   "outputs": [
    {
     "name": "stdout",
     "output_type": "stream",
     "text": [
      "The sum of numbers from 0 to 10 is: 55\n"
     ]
    }
   ],
   "source": [
    "def calculate_sum(n):\n",
    "    if n == 0:\n",
    "        return 0\n",
    "    else:\n",
    "        return n + calculate_sum(n - 1)\n",
    "result = calculate_sum(10)\n",
    "print(\"The sum of numbers from 0 to 10 is:\", result)\n"
   ]
  },
  {
   "cell_type": "markdown",
   "id": "0ddeeb02",
   "metadata": {},
   "source": [
    "## 19)Write a Python function student_data () which will print the id of a student (student_id). If the user passes an argument student_name or student_class the function will print the student name and class."
   ]
  },
  {
   "cell_type": "code",
   "execution_count": 11,
   "id": "4b304016",
   "metadata": {},
   "outputs": [
    {
     "name": "stdout",
     "output_type": "stream",
     "text": [
      "Student ID: 12345\n",
      "Student ID: 67890\n",
      "Student Name: John Doe\n",
      "Student Class: Class A\n"
     ]
    }
   ],
   "source": [
    "def student_data(student_id, student_name=None, student_class=None):\n",
    "    print(\"Student ID:\", student_id)\n",
    "    if student_name is not None and student_class is not None:\n",
    "        print(\"Student Name:\", student_name)\n",
    "        print(\"Student Class:\", student_class)\n",
    "\n",
    "student_data(12345)\n",
    "student_data(67890, \"John Doe\", \"Class A\")\n"
   ]
  },
  {
   "cell_type": "markdown",
   "id": "8e1755f7",
   "metadata": {},
   "source": [
    "## 20)Write a Python program to reverse the digits of a given number and add it to the original, If the sum is not a palindrome repeat this procedure"
   ]
  },
  {
   "cell_type": "code",
   "execution_count": 12,
   "id": "5e4e87c8",
   "metadata": {},
   "outputs": [
    {
     "name": "stdout",
     "output_type": "stream",
     "text": [
      "Final palindrome: 444\n"
     ]
    }
   ],
   "source": [
    "def is_palindrome(n):\n",
    "    return str(n) == str(n)[::-1]\n",
    "\n",
    "def reverse_and_add(n):\n",
    "    while not is_palindrome(n):\n",
    "        reverse = int(str(n)[::-1])\n",
    "        n += reverse\n",
    "    return n\n",
    "number = 123\n",
    "\n",
    "result = reverse_and_add(number)\n",
    "print(\"Final palindrome:\", result)\n"
   ]
  },
  {
   "cell_type": "markdown",
   "id": "3c97e786",
   "metadata": {},
   "source": [
    "## 21)Write a menu-driven program that creates a Phonebook Directory using the different functions. We will add the following features to the Phonebook Directory: \n",
    "a. Storing the Contact Numbers of People\n",
    "b. Searching for the Contact Number using the person&#39;s name"
   ]
  },
  {
   "cell_type": "code",
   "execution_count": 13,
   "id": "37beb80e",
   "metadata": {},
   "outputs": [
    {
     "name": "stdout",
     "output_type": "stream",
     "text": [
      "Phonebook Directory\n",
      "1. Add Contact\n",
      "2. Search Contact\n",
      "3. Delete Contact\n",
      "4. Display Contacts\n",
      "5. Exit\n",
      "Enter your choice (1-5): 1\n",
      "Enter the name of the contact: rose\n",
      "Enter the contact number: 12786790\n",
      "Contact added successfully!\n",
      "Phonebook Directory\n",
      "1. Add Contact\n",
      "2. Search Contact\n",
      "3. Delete Contact\n",
      "4. Display Contacts\n",
      "5. Exit\n",
      "Enter your choice (1-5): 2\n",
      "Enter the name to search: rose\n",
      "Contact found!\n",
      "Name: rose\n",
      "Number: 12786790\n",
      "Phonebook Directory\n",
      "1. Add Contact\n",
      "2. Search Contact\n",
      "3. Delete Contact\n",
      "4. Display Contacts\n",
      "5. Exit\n",
      "Enter your choice (1-5): 3\n",
      "Enter the name of the contact to delete: rose\n",
      "Contact deleted successfully!\n",
      "Phonebook Directory\n",
      "1. Add Contact\n",
      "2. Search Contact\n",
      "3. Delete Contact\n",
      "4. Display Contacts\n",
      "5. Exit\n",
      "Enter your choice (1-5): 4\n",
      "No contacts found!\n",
      "Phonebook Directory\n",
      "1. Add Contact\n",
      "2. Search Contact\n",
      "3. Delete Contact\n",
      "4. Display Contacts\n",
      "5. Exit\n",
      "Enter your choice (1-5): 5\n",
      "Thank you for using the Phonebook Directory!\n"
     ]
    }
   ],
   "source": [
    "phonebook = {}\n",
    "\n",
    "def add_contact():\n",
    "    name = input(\"Enter the name of the contact: \")\n",
    "    number = input(\"Enter the contact number: \")\n",
    "    phonebook[name] = number\n",
    "    print(\"Contact added successfully!\")\n",
    "\n",
    "def search_contact():\n",
    "    name = input(\"Enter the name to search: \")\n",
    "    if name in phonebook:\n",
    "        print(\"Contact found!\")\n",
    "        print(\"Name:\", name)\n",
    "        print(\"Number:\", phonebook[name])\n",
    "    else:\n",
    "        print(\"Contact not found!\")\n",
    "\n",
    "def delete_contact():\n",
    "    name = input(\"Enter the name of the contact to delete: \")\n",
    "    if name in phonebook:\n",
    "        del phonebook[name]\n",
    "        print(\"Contact deleted successfully!\")\n",
    "    else:\n",
    "        print(\"Contact not found!\")\n",
    "\n",
    "def display_contacts():\n",
    "    if len(phonebook) == 0:\n",
    "        print(\"No contacts found!\")\n",
    "    else:\n",
    "        print(\"Phonebook Directory:\")\n",
    "        for name, number in phonebook.items():\n",
    "            print(\"Name:\", name)\n",
    "            print(\"Number:\", number)\n",
    "            print()\n",
    "\n",
    "while True:\n",
    "    print(\"Phonebook Directory\")\n",
    "    print(\"1. Add Contact\")\n",
    "    print(\"2. Search Contact\")\n",
    "    print(\"3. Delete Contact\")\n",
    "    print(\"4. Display Contacts\")\n",
    "    print(\"5. Exit\")\n",
    "\n",
    "    choice = input(\"Enter your choice (1-5): \")\n",
    "\n",
    "    if choice == '1':\n",
    "        add_contact()\n",
    "    elif choice == '2':\n",
    "        search_contact()\n",
    "    elif choice == '3':\n",
    "        delete_contact()\n",
    "    elif choice == '4':\n",
    "        display_contacts()\n",
    "    elif choice == '5':\n",
    "        print(\"Thank you for using the Phonebook Directory!\")\n",
    "        break\n",
    "    else:\n",
    "        print(\"Invalid choice! Please try again.\")\n"
   ]
  },
  {
   "cell_type": "markdown",
   "id": "317c7d5e",
   "metadata": {},
   "source": [
    "## 22)Perform various set operations\n",
    "A. Set Union\n",
    "B. Set Intersection\n",
    "C. Set Difference"
   ]
  },
  {
   "cell_type": "code",
   "execution_count": 14,
   "id": "eec6188e",
   "metadata": {},
   "outputs": [
    {
     "name": "stdout",
     "output_type": "stream",
     "text": [
      "Set Union: {1, 2, 3, 4, 5, 6, 7, 8}\n",
      "Set Intersection: {4, 5}\n",
      "Set Difference (set1 - set2): {1, 2, 3}\n",
      "Set Difference (set2 - set1): {8, 6, 7}\n"
     ]
    }
   ],
   "source": [
    "set1 = {1, 2, 3, 4, 5}\n",
    "set2 = {4, 5, 6, 7, 8}\n",
    "\n",
    "# Set Union\n",
    "union = set1.union(set2)\n",
    "print(\"Set Union:\", union)\n",
    "\n",
    "# Set Intersection\n",
    "intersection = set1.intersection(set2)\n",
    "print(\"Set Intersection:\", intersection)\n",
    "\n",
    "# Set Difference\n",
    "difference = set1.difference(set2)\n",
    "print(\"Set Difference (set1 - set2):\", difference)\n",
    "\n",
    "difference = set2.difference(set1)\n",
    "print(\"Set Difference (set2 - set1):\", difference)\n"
   ]
  },
  {
   "cell_type": "markdown",
   "id": "455d2117",
   "metadata": {},
   "source": [
    "## 23) Create a dictionary to store the name, roll_no, total_mark of N students. Now print the details of the student who has got the highest total_mark"
   ]
  },
  {
   "cell_type": "code",
   "execution_count": 16,
   "id": "7adf8a58",
   "metadata": {},
   "outputs": [
    {
     "name": "stdout",
     "output_type": "stream",
     "text": [
      "Student with highest marks:\n",
      "Name: Emma\n",
      "Roll No: 2\n",
      "Total Marks: 92\n"
     ]
    }
   ],
   "source": [
    "student_details = {\n",
    "    \"student1\": {\n",
    "        \"name\": \"John\",\n",
    "        \"roll_no\": 1,\n",
    "        \"total_mark\": 85\n",
    "    },\n",
    "    \"student2\": {\n",
    "        \"name\": \"Emma\",\n",
    "        \"roll_no\": 2,\n",
    "        \"total_mark\": 92\n",
    "    },\n",
    "    \"student3\": {\n",
    "        \"name\": \"Michael\",\n",
    "        \"roll_no\": 3,\n",
    "        \"total_mark\": 78\n",
    "    },\n",
    "}\n",
    "\n",
    "max_total_marks = 0\n",
    "student_with_highest_marks = None\n",
    "\n",
    "for student, details in student_details.items():\n",
    "    total_marks = details[\"total_mark\"]\n",
    "    if total_marks > max_total_marks:\n",
    "        max_total_marks = total_marks\n",
    "        student_with_highest_marks = student\n",
    "\n",
    "if student_with_highest_marks:\n",
    "    print(\"Student with highest marks:\")\n",
    "    print(\"Name:\", student_details[student_with_highest_marks][\"name\"])\n",
    "    print(\"Roll No:\", student_details[student_with_highest_marks][\"roll_no\"])\n",
    "    print(\"Total Marks:\", student_details[student_with_highest_marks][\"total_mark\"])\n",
    "else:\n",
    "    print(\"No student details found.\")\n",
    "\n"
   ]
  }
 ],
 "metadata": {
  "kernelspec": {
   "display_name": "Python 3 (ipykernel)",
   "language": "python",
   "name": "python3"
  },
  "language_info": {
   "codemirror_mode": {
    "name": "ipython",
    "version": 3
   },
   "file_extension": ".py",
   "mimetype": "text/x-python",
   "name": "python",
   "nbconvert_exporter": "python",
   "pygments_lexer": "ipython3",
   "version": "3.9.13"
  }
 },
 "nbformat": 4,
 "nbformat_minor": 5
}
